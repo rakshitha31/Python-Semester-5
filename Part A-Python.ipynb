{
 "cells": [
  {
   "cell_type": "code",
   "execution_count": 10,
   "metadata": {},
   "outputs": [
    {
     "name": "stdout",
     "output_type": "stream",
     "text": [
      "Enter key and value separated by commas (,): K,Pot\n",
      "Enter key and value separated by commas (,): Rd,Radon\n",
      "{'Pb': 'Lead', 'Ag': 'Silver', 'Na': 'Sodium', 'K': 'Pot', 'Rd': 'Radon'}\n",
      "5\n",
      "Enter a key to search in the list of elementsMg\n",
      "Not present\n"
     ]
    }
   ],
   "source": [
    "#Part A-7\n",
    "elements={'Pb':'Lead','Ag':'Silver','Na':'Sodium'}\n",
    "x=input(\"Enter key and value separated by commas (,): \")\n",
    "k,v=x.split(',')\n",
    "elements[k]=v\n",
    "x=input(\"Enter key and value separated by commas (,): \")\n",
    "k,v=x.split(',')\n",
    "elements[k]=v\n",
    "print(elements)\n",
    "#Number of atomic elements\n",
    "print(len(elements))\n",
    "#Search for an element by key\n",
    "n=input(\"Enter a key to search in the list of elements\")\n",
    "flag=0\n",
    "for k,v in elements.items():\n",
    "    if(n in k):\n",
    "        flag=1\n",
    "        found=v;\n",
    "        \n",
    "if(flag==1):\n",
    "    print(\"Element present\")\n",
    "    print(found)\n",
    "else:\n",
    "    print(\"Not present\")"
   ]
  },
  {
   "cell_type": "code",
   "execution_count": 20,
   "metadata": {},
   "outputs": [
    {
     "name": "stdout",
     "output_type": "stream",
     "text": [
      "[3, 15, 228, 72, 27, 18]\n",
      "121\n",
      "363\n"
     ]
    }
   ],
   "source": [
    "#Part A-8\n",
    "from functools import reduce\n",
    "original_list=[1,5,76,24,9,6]\n",
    "new_list=[x*3 for x in original_list]\n",
    "print(new_list)\n",
    "newer=reduce((lambda s,t:s+t),original_list)\n",
    "print(newer)\n",
    "newest=reduce((lambda s,t:s+t),new_list)\n",
    "print(newest)"
   ]
  },
  {
   "cell_type": "code",
   "execution_count": null,
   "metadata": {},
   "outputs": [
    {
     "name": "stdout",
     "output_type": "stream",
     "text": [
      "Tom 20 90 80 70\n",
      "Harry 21 60 45 50\n",
      "Enter name,age and 3 marks\n",
      "'Jalebi',20,90,90,90\n",
      "'Rasgulla',100,80,90,99\n"
     ]
    }
   ],
   "source": [
    "#Part A-9\n",
    "class Student:\n",
    "    name='Rashi'\n",
    "    age=20\n",
    "    m1=0\n",
    "    m2=0\n",
    "    m3=0\n",
    "    def __init__(self,name,age,m1,m2,m3):\n",
    "        self.name=name\n",
    "        self.age=age\n",
    "        self.m1=m1\n",
    "        self.m2=m2\n",
    "        self.m3=m3\n",
    "    def display(self,name,age,m1,m2,m3):\n",
    "        print(self.name,self.age,self.m1,self.m2,self.m3)\n",
    "    def accept(self):\n",
    "        print(\"Enter name,age and 3 marks\")\n",
    "        name=input()\n",
    "        age=input()\n",
    "        m1=int(input())\n",
    "        m2=int(input())\n",
    "        m3=int(input())\n",
    "        display(name,age,m1,m2,m3)\n",
    "me=Student(\"Tom\",20,90,80,70)\n",
    "me.display(\"Tom\",20,90,80,70)\n",
    "she=Student(\"Harry\",21,60,45,50)\n",
    "she.display(\"Harry\",21,60,45,50)\n",
    "she.accept()"
   ]
  },
  {
   "cell_type": "code",
   "execution_count": 7,
   "metadata": {},
   "outputs": [
    {
     "name": "stdout",
     "output_type": "stream",
     "text": [
      "Enter number of students\n",
      "3\n",
      "Enter USN44\n",
      "Enter name, semester, department: abc\n",
      "Enter name, semester, department: 5th\n",
      "Enter name, semester, department: ISE\n",
      "Enter USN45\n",
      "Enter name, semester, department: efg\n",
      "Enter name, semester, department: 4th\n",
      "Enter name, semester, department: CSE\n",
      "Enter USN70\n",
      "Enter name, semester, department: xyz\n",
      "Enter name, semester, department: 6th\n",
      "Enter name, semester, department: ECE\n",
      "44 ['abc', '5th', 'ISE']\n",
      "70 ['xyz', '6th', 'ECE']\n"
     ]
    }
   ],
   "source": [
    "#Part A-10\n",
    "student={}\n",
    "details=[]\n",
    "print('Enter number of students')\n",
    "n=int(input())\n",
    "for i in range(n):\n",
    "    key=int(input(\"Enter USN\"))\n",
    "    details=[]\n",
    "    for i in range(3):\n",
    "        s=input(\"Enter name, semester, department: \")\n",
    "        details.append(s)\n",
    "    student[key]=details\n",
    "for k,v in student.items():\n",
    "    if(k%2==0):\n",
    "        print(k,v)"
   ]
  },
  {
   "cell_type": "code",
   "execution_count": 32,
   "metadata": {},
   "outputs": [
    {
     "name": "stdout",
     "output_type": "stream",
     "text": [
      "['mercedes', 'bentley']\n",
      "Audi\n",
      "Bentley\n",
      "1\n",
      "2\n"
     ]
    }
   ],
   "source": [
    "#Part A-11\n",
    "str_list=['audi','mercedes','jagu12ar','bentley','rolls royce']\n",
    "newlist=[]\n",
    "print(str_list[1::2])\n",
    "newlist=str_list[::3]\n",
    "for i in newlist:\n",
    "    print(i.capitalize())\n",
    "for i in str_list:\n",
    "    for k in i:\n",
    "        if k.isdigit():\n",
    "            print(k)"
   ]
  },
  {
   "cell_type": "code",
   "execution_count": 21,
   "metadata": {},
   "outputs": [
    {
     "name": "stdout",
     "output_type": "stream",
     "text": [
      "Enter file name: sample.txt\n",
      "This 2\n",
      "is 3\n",
      "a 1\n",
      "sample 3\n",
      "text 1\n",
      "[('is', 3), ('sample', 3), ('This', 2), ('a', 1), ('text', 1)]\n",
      "Average length is:  3.7\n",
      "[4, 4, 2, 2, 2, 1, 6, 6, 6, 4]\n",
      "Squres of odd word lengths: \n",
      "[1]\n"
     ]
    }
   ],
   "source": [
    "import operator\n",
    "fname=input(\"Enter file name: \")\n",
    "file=open(fname,\"+r\")\n",
    "word_count={}\n",
    "tup=()\n",
    "lengths=[]\n",
    "freqlist=[]\n",
    "count=0\n",
    "for word in file.read().split():\n",
    "    if word not in word_count:\n",
    "        word_count[word]=1 \n",
    "        count+=1\n",
    "        lengths.append(len(word))\n",
    "      \n",
    "    else:\n",
    "        word_count[word]+=1\n",
    "        lengths.append(len(word))\n",
    "        count+=1\n",
    "for k,v in word_count.items():\n",
    "    print(k,v)\n",
    "    tup=(k,v)\n",
    "    freqlist.append(tup)\n",
    "\n",
    "freqlist.sort(key=operator.itemgetter(1),reverse=True)\n",
    "if(count<10):\n",
    "    print(\"Number of words is less than 10\")\n",
    "    print(freqlist)\n",
    "else:\n",
    "    print(freqlist)\n",
    "sum=reduce(lambda x,y:x+y, lengths)\n",
    "print(\"Average length is: \", sum/len(lengths))\n",
    "print(lengths)\n",
    "squares = [x**2 for x in lengths if x%2 != 0]\n",
    "print (\"Squares of odd word lengths: \")\n",
    "print (squares)"
   ]
  },
  {
   "cell_type": "code",
   "execution_count": null,
   "metadata": {},
   "outputs": [],
   "source": []
  }
 ],
 "metadata": {
  "kernelspec": {
   "display_name": "Python 3",
   "language": "python",
   "name": "python3"
  },
  "language_info": {
   "codemirror_mode": {
    "name": "ipython",
    "version": 3
   },
   "file_extension": ".py",
   "mimetype": "text/x-python",
   "name": "python",
   "nbconvert_exporter": "python",
   "pygments_lexer": "ipython3",
   "version": "3.7.0"
  }
 },
 "nbformat": 4,
 "nbformat_minor": 2
}
