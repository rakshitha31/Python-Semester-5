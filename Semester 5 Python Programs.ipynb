{
 "cells": [
  {
   "cell_type": "code",
   "execution_count": null,
   "metadata": {},
   "outputs": [],
   "source": [
    "list = ['mercedes','audi','jaguarmodelxs','suzuki','toyota']\n",
    "cap_list = []\n",
    "print(list[0][:5])\n",
    "print(list[1][1::2])\n",
    "print(list[2][-5:])\n",
    "for i in list:\n",
    "    cap_list.append(i.capitalize())\n",
    "print(cap_list)"
   ]
  },
  {
   "cell_type": "code",
   "execution_count": null,
   "metadata": {},
   "outputs": [],
   "source": [
    "#filtering out odd numbers from list using lambda function\n",
    "li = [] \n",
    "n=int(input(\"Enter number of elements\"))\n",
    "for i in range(0,n):\n",
    "    li.append(int(input()))\n",
    "final_list = list(filter(lambda x: (x%2 != 0) , li)) \n",
    "print(final_list) "
   ]
  },
  {
   "cell_type": "code",
   "execution_count": 16,
   "metadata": {},
   "outputs": [
    {
     "name": "stdout",
     "output_type": "stream",
     "text": [
      "Enter number of students 2\n",
      "Enter register number of student 100\n",
      "Enter 3 marks and name 12\n",
      "Enter 3 marks and name 12\n",
      "Enter 3 marks and name 12\n",
      "Enter 3 marks and name Aron\n",
      "Enter register number of student 102\n",
      "Enter 3 marks and name 90\n",
      "Enter 3 marks and name 90\n",
      "Enter 3 marks and name 90\n",
      "Enter 3 marks and name Hermoi\n",
      "The student whose name starts with A is  ['12', '12', '12', 'Aron']\n",
      "The student with avg more than 50 is  ['90', '90', '90', 'Hermoi']\n"
     ]
    }
   ],
   "source": [
    "#Dictionary of students with 3 subjects' marks, average calculation and print students' details with avg>50\n",
    "stu={}\n",
    "marks=[]\n",
    "sum1 = 0\n",
    "avg=0\n",
    "n=int(input(\"Enter number of students \"))\n",
    "for i in range(0,n):\n",
    "    key=int(input((\"Enter register number of student \")))\n",
    "    marks=[]\n",
    "    for k in range (4):\n",
    "        v=input(\"Enter 3 marks and name \")\n",
    "        marks.append(v)\n",
    "    stu[key]=marks\n",
    "for i in stu.values():\n",
    "    for k in range(len(i)-1):\n",
    "        sum1=sum1+int(i[k])\n",
    "    avg=sum1/4\n",
    "    sum1=0\n",
    "    if(avg>50):\n",
    "        print(\"The student with avg more than 50 is \",i)\n",
    "    if(i[3][0] == 'A'):\n",
    "            print(\"The student whose name starts with A is \", i)"
   ]
  },
  {
   "cell_type": "markdown",
   "metadata": {},
   "source": [
    "#Even number in a list separation using filter and lambda\n",
    "n=int(input(\"Enter number of elements: \"))\n",
    "tot_list=[]\n",
    "even_list=[]\n",
    "for i in range(0,n):\n",
    "    c=int(input(\"Enter element: \")) \n",
    "    tot_list.append(c)\n",
    "    even_list=list(filter(lambda a: (a%2==0),tot_list))\n",
    "print(even_list)"
   ]
  },
  {
   "cell_type": "code",
   "execution_count": 6,
   "metadata": {},
   "outputs": [
    {
     "name": "stdout",
     "output_type": "stream",
     "text": [
      "Enter number of sentences: 2\n",
      "Enter sentence: here i am\n",
      "Enter sentence: why me\n",
      "[('am i here', 3), ('me why', 1)]\n"
     ]
    }
   ],
   "source": [
    "#part b -3\n",
    "import operator\n",
    "class Reverse:\n",
    "    def __init__(self,sentence):\n",
    "        self.sentence=sentence\n",
    "        self.vowel=0\n",
    "        self.rev=sentence.split(\" \")\n",
    "        for i in ['a','e','i','o','u']:\n",
    "            if i in sentence:\n",
    "                self.vowel+=1\n",
    "        self.rev=self.rev[-1::-1]\n",
    "        self.output = ' '.join(self.rev) \n",
    "        #print(self.output,self.vowel)\n",
    "        \n",
    "details=[]\n",
    "tup=()\n",
    "n=int(input(\"Enter number of sentences: \"))\n",
    "for i in range(0,n):\n",
    "    per=Reverse(input(\"Enter sentence: \"))\n",
    "    tup=(per.output,per.vowel)\n",
    "    details.append(tup)\n",
    "#print(details)\n",
    "details.sort(key = operator.itemgetter(1), reverse = True)\n",
    "print(details)\n",
    "    "
   ]
  },
  {
   "cell_type": "code",
   "execution_count": 31,
   "metadata": {},
   "outputs": [
    {
     "name": "stdout",
     "output_type": "stream",
     "text": [
      "Enter number of elements: 3\n",
      "12\n",
      "12\n",
      "1\n",
      "['12', '1']\n",
      "[0, 2, 4, 6, 8]\n",
      "[8, 6, 4, 2, 0]\n",
      "Enter file name: sample.txt\n",
      "cray 1\n",
      "this 1\n",
      "is 1\n",
      ". 2\n",
      "i 1\n",
      "love 1\n",
      "it 1\n",
      "12\n"
     ]
    }
   ],
   "source": [
    "#part B-1\n",
    "#a.Remove duplicate elements from list-use function\n",
    "def remove_duplicates(list1):\n",
    "    new_list=[]\n",
    "    for i in list1:\n",
    "        if i not in new_list:\n",
    "            new_list.append(i)\n",
    "    print(new_list)\n",
    "duplicates=[]\n",
    "n=int(input(\"Enter number of elements: \"))\n",
    "for i in range(0,n):\n",
    "    duplicates.append(input())\n",
    "remove_duplicates(duplicates)\n",
    "\n",
    "#create even list using one-line comprehension and reverses list\n",
    "even_list=[x for x in range(10) if (x%2 == 0)]\n",
    "print(even_list)\n",
    "print(list(reversed(even_list)))\n",
    "\n",
    "#b-frequency of words in a given file\n",
    "fname=input(\"Enter file name: \")\n",
    "file=open(fname,\"+r\")\n",
    "word_count={}\n",
    "for word in file.read().split():\n",
    "    if word not in word_count:\n",
    "        word_count[word]=1\n",
    "    else:\n",
    "        word_count[word]+=1\n",
    "for k,v in word_count.items():\n",
    "    print(k,v)\n",
    "        \n",
    "#c-maximum in a list using recursion\n",
    "def Max_list(list1):\n",
    "    if(len(list1)==1):\n",
    "        return(list1[0])\n",
    "    else:\n",
    "        m=Max_list(list1[1:])\n",
    "        return m if m>list1[0] else list1[0]\n",
    "\n",
    "print(\"The maximum element is \" Max_list(duplicates))\n",
    "    \n",
    "    "
   ]
  },
  {
   "cell_type": "code",
   "execution_count": null,
   "metadata": {},
   "outputs": [
    {
     "name": "stdout",
     "output_type": "stream",
     "text": [
      "Enter 1 for c to f\n",
      "2 for f to c\n",
      "3 to view history of cf\n",
      "4 to view history of fc\n",
      "1\n",
      "enter temperature: 40\n",
      "104.0\n",
      "Enter 1 for c to f\n",
      "2 for f to c\n",
      "3 to view history of cf\n",
      "4 to view history of fc\n",
      "2\n",
      "Enter temp90\n",
      "32.22222222222222\n",
      "Enter 1 for c to f\n",
      "2 for f to c\n",
      "3 to view history of cf\n",
      "4 to view history of fc\n",
      "3\n",
      "[(40, 104.0)]\n",
      "Enter 1 for c to f\n",
      "2 for f to c\n",
      "3 to view history of cf\n",
      "4 to view history of fc\n",
      "1\n",
      "enter temperature: 30\n",
      "86.0\n",
      "Enter 1 for c to f\n",
      "2 for f to c\n",
      "3 to view history of cf\n",
      "4 to view history of fc\n",
      "3\n",
      "[(40, 104.0), (30, 86.0)]\n",
      "Enter 1 for c to f\n",
      "2 for f to c\n",
      "3 to view history of cf\n",
      "4 to view history of fc\n"
     ]
    }
   ],
   "source": [
    "#part B-2\n",
    "histcf=[]\n",
    "histfc=[]\n",
    "tup1=()\n",
    "tup2=()\n",
    "def CF(celcius):\n",
    "    faren=1.8 * celcius + 32\n",
    "    print(faren)\n",
    "    tup1=(celcius,faren)\n",
    "    histcf.append(tup1)\n",
    "    \n",
    "def FC(faren):\n",
    "    celcius=(faren - 32)/1.8\n",
    "    print(celcius)\n",
    "    tup1=(faren,celcius)\n",
    "    histfc.append(tup2)\n",
    "    \n",
    "\n",
    "def main():\n",
    "    a=1;\n",
    "    \n",
    "    while(a):\n",
    "        print(\"Enter 1 for c to f\\n2 for f to c\\n3 to view history of cf\\n4 to view history of fc\")\n",
    "        ch=int(input())\n",
    "        if(ch==1):\n",
    "            cel=int(input(\"enter temperature: \"))\n",
    "            CF(cel)\n",
    "        elif (ch==2):\n",
    "            far=int(input(\"Enter temp\"))\n",
    "            FC(far)\n",
    "        elif(ch==3):\n",
    "            print(histcf)\n",
    "        elif(ch==4):\n",
    "            print(histfc)\n",
    "    \n",
    "main()"
   ]
  },
  {
   "cell_type": "code",
   "execution_count": null,
   "metadata": {},
   "outputs": [],
   "source": []
  }
 ],
 "metadata": {
  "kernelspec": {
   "display_name": "Python 3",
   "language": "python",
   "name": "python3"
  },
  "language_info": {
   "codemirror_mode": {
    "name": "ipython",
    "version": 3
   },
   "file_extension": ".py",
   "mimetype": "text/x-python",
   "name": "python",
   "nbconvert_exporter": "python",
   "pygments_lexer": "ipython3",
   "version": "3.6.5"
  }
 },
 "nbformat": 4,
 "nbformat_minor": 2
}
